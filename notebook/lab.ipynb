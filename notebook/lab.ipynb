{
 "cells": [
  {
   "cell_type": "code",
   "execution_count": 2,
   "id": "0a4824d4",
   "metadata": {},
   "outputs": [],
   "source": [
    "import json\n",
    "from pedesis.shortcuts import get_settings, get_engine\n",
    "from pedesis.station.controller import Station"
   ]
  },
  {
   "cell_type": "code",
   "execution_count": 3,
   "id": "c61de741",
   "metadata": {},
   "outputs": [],
   "source": [
    "station = Station(get_settings())\n",
    "station.start_all_public_components()"
   ]
  },
  {
   "cell_type": "code",
   "execution_count": 4,
   "id": "7210d5e4",
   "metadata": {},
   "outputs": [
    {
     "data": {
      "text/plain": [
       "['multi_long_triple_ema_scalp',\n",
       " 'scalp_short_macd',\n",
       " 'swing_long_bollinger_bands',\n",
       " 'swing_short_bollinger_bands']"
      ]
     },
     "execution_count": 4,
     "metadata": {},
     "output_type": "execute_result"
    }
   ],
   "source": [
    "engines = station._engines_name\n",
    "engines"
   ]
  },
  {
   "cell_type": "code",
   "execution_count": 5,
   "id": "98391a26",
   "metadata": {},
   "outputs": [
    {
     "data": {
      "text/plain": [
       "<pedesis.components.signal_engine.maker.EngineStarter at 0x7f19ff1da950>"
      ]
     },
     "execution_count": 5,
     "metadata": {},
     "output_type": "execute_result"
    }
   ],
   "source": [
    "macd = get_engine(engines[1])\n",
    "macd"
   ]
  },
  {
   "cell_type": "code",
   "execution_count": 6,
   "id": "b7b71146",
   "metadata": {},
   "outputs": [
    {
     "data": {
      "text/plain": [
       "{'calculators': ['pedesis.components.srl_calculator.calculators.williams_fractal'],\n",
       " 'timeframes': ['5m',\n",
       "  '15m',\n",
       "  '30m',\n",
       "  '1h',\n",
       "  '2h',\n",
       "  '4h',\n",
       "  '6h',\n",
       "  '12h',\n",
       "  '1d',\n",
       "  '3d',\n",
       "  '1w',\n",
       "  '1M'],\n",
       " 'engine': EngineProperty(name='scalp_short_macd', mode=<EngineMode.Scalp: 'scalp'>, native_broker='pedesis.components.broker.templates.okx', market='future')}"
      ]
     },
     "execution_count": 6,
     "metadata": {},
     "output_type": "execute_result"
    }
   ],
   "source": [
    "base_srls_configs = dict(\n",
    "    calculators=macd._settings.installed_srls,\n",
    "    timeframes=macd._settings.srl_timeframes,\n",
    "    engine=macd._settings.engine_property\n",
    ")\n",
    "base_srls_configs"
   ]
  },
  {
   "cell_type": "code",
   "execution_count": 7,
   "id": "59aac284",
   "metadata": {},
   "outputs": [
    {
     "data": {
      "text/plain": [
       "[app.scalp_short_macd.router.BTCUSDT,\n",
       " app.scalp_short_macd.router.ETHUSDT,\n",
       " app.scalp_short_macd.router.DOGEUSDT]"
      ]
     },
     "execution_count": 7,
     "metadata": {},
     "output_type": "execute_result"
    }
   ],
   "source": [
    "symbols = macd._get_symbols_router_list()\n",
    "symbols"
   ]
  },
  {
   "cell_type": "code",
   "execution_count": 8,
   "id": "d6936be3",
   "metadata": {},
   "outputs": [],
   "source": [
    "def make_srls_record(srls_configs):\n",
    "    from pedesis.components.srl_calculator.models import SRLsModel, UniSymbol\n",
    "    calcs = srls_configs['calculators']\n",
    "    calcs.sort()\n",
    "    tms = srls_configs['timeframes']\n",
    "    tms.sort()\n",
    "    uni_symbol_id = UniSymbol.get('id', symbol=srls_configs['symbol'].__name__)\n",
    "    srls = SRLsModel(\n",
    "        signal_engine_signature=srls_configs['engine'].srl_signature(),\n",
    "        calculators=json.dumps(calcs),\n",
    "        timeframes=json.dumps(tms),\n",
    "        uni_symbol_id=uni_symbol_id\n",
    "    ).save()\n",
    "    srls_configs['engine'].add_srls_in_cache(uni_symbol_id, srls.id)\n",
    "    return srls"
   ]
  },
  {
   "cell_type": "code",
   "execution_count": 9,
   "id": "82573b86",
   "metadata": {},
   "outputs": [
    {
     "data": {
      "text/plain": [
       "{'calculators': ['pedesis.components.srl_calculator.calculators.williams_fractal'],\n",
       " 'timeframes': ['5m',\n",
       "  '15m',\n",
       "  '30m',\n",
       "  '1h',\n",
       "  '2h',\n",
       "  '4h',\n",
       "  '6h',\n",
       "  '12h',\n",
       "  '1d',\n",
       "  '3d',\n",
       "  '1w',\n",
       "  '1M'],\n",
       " 'engine': EngineProperty(name='scalp_short_macd', mode=<EngineMode.Scalp: 'scalp'>, native_broker='pedesis.components.broker.templates.okx', market='future'),\n",
       " 'symbol': app.scalp_short_macd.router.BTCUSDT}"
      ]
     },
     "execution_count": 9,
     "metadata": {},
     "output_type": "execute_result"
    }
   ],
   "source": [
    "btc_srls = base_srls_configs.copy()\n",
    "btc_srls['symbol'] = symbols[0]\n",
    "btc_srls"
   ]
  },
  {
   "cell_type": "code",
   "execution_count": 10,
   "id": "512cec99",
   "metadata": {},
   "outputs": [
    {
     "data": {
      "text/plain": [
       "<pedesis.components.srl_calculator.maker.SRLsStarter at 0x7f19fec74250>"
      ]
     },
     "execution_count": 10,
     "metadata": {},
     "output_type": "execute_result"
    }
   ],
   "source": [
    "from pedesis.components.srl_calculator.maker import SRLsStarter\n",
    "btc_starter = SRLsStarter(make_srls_record(btc_srls).get_configs())\n",
    "btc_starter"
   ]
  },
  {
   "cell_type": "code",
   "execution_count": 13,
   "id": "ceb95a25",
   "metadata": {},
   "outputs": [],
   "source": [
    "def srls_start(srls_starter):\n",
    "    from pedesis.components.srl_calculator.maker import get_srl, SRLConfigs\n",
    "    from pedesis.logger import get_logger\n",
    "    from pedesis.cache import get_redlock\n",
    "    import itertools\n",
    "    \n",
    "    _logger = get_logger()\n",
    "    _logger.info(f\"SRLsStarter --start-- make SRL class for this SRLs: {srls_starter.configs.cache_uid}\")\n",
    "    srl_tasks = []\n",
    "    for engine, uni_symbol_id, tm, calc in itertools.product([srls_starter.configs.engine], [srls_starter.configs.uni_symbol_id], srls_starter.configs.timeframes, srls_starter.configs.calculators):\n",
    "        conf = SRLConfigs(\n",
    "            engine=engine,\n",
    "            uni_symbol_id=uni_symbol_id,\n",
    "            timeframe=tm,\n",
    "            calculator=calc,\n",
    "        )\n",
    "        _logger.info(f\"SRLsStarter --start-- create SRL for {conf.cache_uid}.\")\n",
    "        with get_redlock(conf.get_redlock_key()):\n",
    "            srl = get_srl(conf, log=_logger)\n",
    "            srl_tasks.append(srl.make_task())\n",
    "            _logger.info(f\"SRLsStarter --end-- create SRL for {conf.cache_uid}.\")\n",
    "            srl.add_srls(srls_starter.configs.dbid)\n",
    "        srls_starter.installed_srl[srl.configs.dbid] = srl._calculator_settings"
   ]
  },
  {
   "cell_type": "code",
   "execution_count": 14,
   "id": "619daeb9",
   "metadata": {},
   "outputs": [],
   "source": [
    "srls_start(btc_starter)"
   ]
  },
  {
   "cell_type": "code",
   "execution_count": 15,
   "id": "0680f3af",
   "metadata": {},
   "outputs": [
    {
     "data": {
      "text/plain": [
       "{1: CalculatorTimeFrameSettings(timeframe='12h', srlevel_std_multiplier=1.05, data_settings=DataSettings(start_time=1609459200000.0, required_length=None, other=None), first_std_srl=0.025, other={'period': 10}),\n",
       " 2: CalculatorTimeFrameSettings(timeframe='15m', srlevel_std_multiplier=1.05, data_settings=DataSettings(start_time=1609459200000.0, required_length=None, other=None), first_std_srl=0.025, other={'period': 20}),\n",
       " 3: CalculatorTimeFrameSettings(timeframe='1M', srlevel_std_multiplier=1.05, data_settings=DataSettings(start_time=1609459200000.0, required_length=None, other=None), first_std_srl=0.025, other={'period': 2}),\n",
       " 4: CalculatorTimeFrameSettings(timeframe='1d', srlevel_std_multiplier=1.05, data_settings=DataSettings(start_time=1609459200000.0, required_length=None, other=None), first_std_srl=0.025, other={'period': 7}),\n",
       " 5: CalculatorTimeFrameSettings(timeframe='1h', srlevel_std_multiplier=1.05, data_settings=DataSettings(start_time=1609459200000.0, required_length=None, other=None), first_std_srl=0.025, other={'period': 15}),\n",
       " 6: CalculatorTimeFrameSettings(timeframe='1w', srlevel_std_multiplier=1.05, data_settings=DataSettings(start_time=1609459200000.0, required_length=None, other=None), first_std_srl=0.025, other={'period': 3}),\n",
       " 7: CalculatorTimeFrameSettings(timeframe='2h', srlevel_std_multiplier=1.05, data_settings=DataSettings(start_time=1609459200000.0, required_length=None, other=None), first_std_srl=0.025, other={'period': 10}),\n",
       " 8: CalculatorTimeFrameSettings(timeframe='30m', srlevel_std_multiplier=1.05, data_settings=DataSettings(start_time=1609459200000.0, required_length=None, other=None), first_std_srl=0.025, other={'period': 20}),\n",
       " 9: CalculatorTimeFrameSettings(timeframe='3d', srlevel_std_multiplier=1.05, data_settings=DataSettings(start_time=1609459200000.0, required_length=None, other=None), first_std_srl=0.025, other={'period': 5}),\n",
       " 10: CalculatorTimeFrameSettings(timeframe='4h', srlevel_std_multiplier=1.05, data_settings=DataSettings(start_time=1609459200000.0, required_length=None, other=None), first_std_srl=0.025, other={'period': 10}),\n",
       " 11: CalculatorTimeFrameSettings(timeframe='5m', srlevel_std_multiplier=1.05, data_settings=DataSettings(start_time=1609459200000.0, required_length=None, other=None), first_std_srl=0.02, other={'period': 20}),\n",
       " 12: CalculatorTimeFrameSettings(timeframe='6h', srlevel_std_multiplier=1.05, data_settings=DataSettings(start_time=1609459200000.0, required_length=None, other=None), first_std_srl=0.025, other={'period': 10})}"
      ]
     },
     "execution_count": 15,
     "metadata": {},
     "output_type": "execute_result"
    }
   ],
   "source": [
    "btc_starter.installed_srl"
   ]
  },
  {
   "cell_type": "code",
   "execution_count": 17,
   "id": "b82b2913",
   "metadata": {},
   "outputs": [
    {
     "data": {
      "text/html": [
       "<div>\n",
       "<style scoped>\n",
       "    .dataframe tbody tr th:only-of-type {\n",
       "        vertical-align: middle;\n",
       "    }\n",
       "\n",
       "    .dataframe tbody tr th {\n",
       "        vertical-align: top;\n",
       "    }\n",
       "\n",
       "    .dataframe thead th {\n",
       "        text-align: right;\n",
       "    }\n",
       "</style>\n",
       "<table border=\"1\" class=\"dataframe\">\n",
       "  <thead>\n",
       "    <tr style=\"text-align: right;\">\n",
       "      <th></th>\n",
       "      <th>open</th>\n",
       "      <th>id</th>\n",
       "      <th>srl_id</th>\n",
       "      <th>timestamp</th>\n",
       "      <th>index_price</th>\n",
       "      <th>high</th>\n",
       "      <th>low</th>\n",
       "      <th>close</th>\n",
       "      <th>volume</th>\n",
       "    </tr>\n",
       "  </thead>\n",
       "  <tbody>\n",
       "    <tr>\n",
       "      <th>0</th>\n",
       "      <td>41407.6</td>\n",
       "      <td>1</td>\n",
       "      <td>1</td>\n",
       "      <td>1.610107e+12</td>\n",
       "      <td>40657.125</td>\n",
       "      <td>42077.6</td>\n",
       "      <td>38596.0</td>\n",
       "      <td>40547.3</td>\n",
       "      <td>3577496.0</td>\n",
       "    </tr>\n",
       "    <tr>\n",
       "      <th>1</th>\n",
       "      <td>34221.1</td>\n",
       "      <td>2</td>\n",
       "      <td>1</td>\n",
       "      <td>1.610366e+12</td>\n",
       "      <td>33903.600</td>\n",
       "      <td>35601.7</td>\n",
       "      <td>30431.4</td>\n",
       "      <td>35360.2</td>\n",
       "      <td>7602135.0</td>\n",
       "    </tr>\n",
       "    <tr>\n",
       "      <th>2</th>\n",
       "      <td>37040.6</td>\n",
       "      <td>3</td>\n",
       "      <td>1</td>\n",
       "      <td>1.611922e+12</td>\n",
       "      <td>35840.950</td>\n",
       "      <td>38600.0</td>\n",
       "      <td>33500.0</td>\n",
       "      <td>34223.2</td>\n",
       "      <td>4271187.0</td>\n",
       "    </tr>\n",
       "    <tr>\n",
       "      <th>3</th>\n",
       "      <td>30651.2</td>\n",
       "      <td>4</td>\n",
       "      <td>1</td>\n",
       "      <td>1.611749e+12</td>\n",
       "      <td>30489.750</td>\n",
       "      <td>31675.2</td>\n",
       "      <td>29258.4</td>\n",
       "      <td>30374.2</td>\n",
       "      <td>3712610.0</td>\n",
       "    </tr>\n",
       "    <tr>\n",
       "      <th>4</th>\n",
       "      <td>30864.2</td>\n",
       "      <td>5</td>\n",
       "      <td>1</td>\n",
       "      <td>1.611274e+12</td>\n",
       "      <td>30880.350</td>\n",
       "      <td>32060.0</td>\n",
       "      <td>28860.0</td>\n",
       "      <td>31737.2</td>\n",
       "      <td>4537623.0</td>\n",
       "    </tr>\n",
       "    <tr>\n",
       "      <th>...</th>\n",
       "      <td>...</td>\n",
       "      <td>...</td>\n",
       "      <td>...</td>\n",
       "      <td>...</td>\n",
       "      <td>...</td>\n",
       "      <td>...</td>\n",
       "      <td>...</td>\n",
       "      <td>...</td>\n",
       "      <td>...</td>\n",
       "    </tr>\n",
       "    <tr>\n",
       "      <th>15906</th>\n",
       "      <td>20961.7</td>\n",
       "      <td>15907</td>\n",
       "      <td>12</td>\n",
       "      <td>1.655813e+12</td>\n",
       "      <td>21201.625</td>\n",
       "      <td>21749.2</td>\n",
       "      <td>20851.0</td>\n",
       "      <td>21244.6</td>\n",
       "      <td>5937205.0</td>\n",
       "    </tr>\n",
       "    <tr>\n",
       "      <th>15907</th>\n",
       "      <td>16211.7</td>\n",
       "      <td>15908</td>\n",
       "      <td>12</td>\n",
       "      <td>1.669637e+12</td>\n",
       "      <td>16204.550</td>\n",
       "      <td>16399.0</td>\n",
       "      <td>16000.0</td>\n",
       "      <td>16207.5</td>\n",
       "      <td>3924396.0</td>\n",
       "    </tr>\n",
       "    <tr>\n",
       "      <th>15908</th>\n",
       "      <td>16498.7</td>\n",
       "      <td>15909</td>\n",
       "      <td>12</td>\n",
       "      <td>1.672402e+12</td>\n",
       "      <td>16488.275</td>\n",
       "      <td>16581.0</td>\n",
       "      <td>16337.0</td>\n",
       "      <td>16536.4</td>\n",
       "      <td>1963644.0</td>\n",
       "    </tr>\n",
       "    <tr>\n",
       "      <th>15909</th>\n",
       "      <td>24576.0</td>\n",
       "      <td>15910</td>\n",
       "      <td>12</td>\n",
       "      <td>1.676549e+12</td>\n",
       "      <td>24751.250</td>\n",
       "      <td>25251.2</td>\n",
       "      <td>24290.3</td>\n",
       "      <td>24887.5</td>\n",
       "      <td>8384968.0</td>\n",
       "    </tr>\n",
       "    <tr>\n",
       "      <th>15910</th>\n",
       "      <td>44217.9</td>\n",
       "      <td>15911</td>\n",
       "      <td>12</td>\n",
       "      <td>1.632463e+12</td>\n",
       "      <td>42858.550</td>\n",
       "      <td>45180.4</td>\n",
       "      <td>40519.4</td>\n",
       "      <td>41516.5</td>\n",
       "      <td>4504374.0</td>\n",
       "    </tr>\n",
       "  </tbody>\n",
       "</table>\n",
       "<p>15911 rows × 9 columns</p>\n",
       "</div>"
      ],
      "text/plain": [
       "          open     id  srl_id     timestamp  index_price     high      low  \\\n",
       "0      41407.6      1       1  1.610107e+12    40657.125  42077.6  38596.0   \n",
       "1      34221.1      2       1  1.610366e+12    33903.600  35601.7  30431.4   \n",
       "2      37040.6      3       1  1.611922e+12    35840.950  38600.0  33500.0   \n",
       "3      30651.2      4       1  1.611749e+12    30489.750  31675.2  29258.4   \n",
       "4      30864.2      5       1  1.611274e+12    30880.350  32060.0  28860.0   \n",
       "...        ...    ...     ...           ...          ...      ...      ...   \n",
       "15906  20961.7  15907      12  1.655813e+12    21201.625  21749.2  20851.0   \n",
       "15907  16211.7  15908      12  1.669637e+12    16204.550  16399.0  16000.0   \n",
       "15908  16498.7  15909      12  1.672402e+12    16488.275  16581.0  16337.0   \n",
       "15909  24576.0  15910      12  1.676549e+12    24751.250  25251.2  24290.3   \n",
       "15910  44217.9  15911      12  1.632463e+12    42858.550  45180.4  40519.4   \n",
       "\n",
       "         close     volume  \n",
       "0      40547.3  3577496.0  \n",
       "1      35360.2  7602135.0  \n",
       "2      34223.2  4271187.0  \n",
       "3      30374.2  3712610.0  \n",
       "4      31737.2  4537623.0  \n",
       "...        ...        ...  \n",
       "15906  21244.6  5937205.0  \n",
       "15907  16207.5  3924396.0  \n",
       "15908  16536.4  1963644.0  \n",
       "15909  24887.5  8384968.0  \n",
       "15910  41516.5  4504374.0  \n",
       "\n",
       "[15911 rows x 9 columns]"
      ]
     },
     "execution_count": 17,
     "metadata": {},
     "output_type": "execute_result"
    }
   ],
   "source": [
    "from pedesis.components.srl_calculator.models import *\n",
    "\n",
    "SRLineRaw.all(in_df=True)"
   ]
  },
  {
   "cell_type": "code",
   "execution_count": 18,
   "id": "c060cc6a",
   "metadata": {},
   "outputs": [],
   "source": [
    "srlines_raw_stmt = SRLineRaw.get_select().where(SRLineRaw.srl_id.in_(list(btc_starter.installed_srl.keys())))\n",
    "srlines_raw = SRLineRaw.query(srlines_raw_stmt, in_df=True)\n",
    "srline_stmt = SRLine.get_select().where(SRLine.srline_raw_id.in_(list(srlines_raw.id)))\n",
    "srlines = SRLine.query(srline_stmt, in_df=True)"
   ]
  },
  {
   "cell_type": "code",
   "execution_count": 19,
   "id": "05f1cf60",
   "metadata": {},
   "outputs": [
    {
     "data": {
      "text/html": [
       "<div>\n",
       "<style scoped>\n",
       "    .dataframe tbody tr th:only-of-type {\n",
       "        vertical-align: middle;\n",
       "    }\n",
       "\n",
       "    .dataframe tbody tr th {\n",
       "        vertical-align: top;\n",
       "    }\n",
       "\n",
       "    .dataframe thead th {\n",
       "        text-align: right;\n",
       "    }\n",
       "</style>\n",
       "<table border=\"1\" class=\"dataframe\">\n",
       "  <thead>\n",
       "    <tr style=\"text-align: right;\">\n",
       "      <th></th>\n",
       "      <th>id</th>\n",
       "      <th>srls_id</th>\n",
       "      <th>srline_raw_id</th>\n",
       "      <th>srlevel_id</th>\n",
       "    </tr>\n",
       "  </thead>\n",
       "  <tbody>\n",
       "  </tbody>\n",
       "</table>\n",
       "</div>"
      ],
      "text/plain": [
       "Empty DataFrame\n",
       "Columns: [id, srls_id, srline_raw_id, srlevel_id]\n",
       "Index: []"
      ]
     },
     "execution_count": 19,
     "metadata": {},
     "output_type": "execute_result"
    }
   ],
   "source": [
    "srlines"
   ]
  },
  {
   "cell_type": "code",
   "execution_count": 20,
   "id": "af797422",
   "metadata": {},
   "outputs": [
    {
     "data": {
      "text/html": [
       "<div>\n",
       "<style scoped>\n",
       "    .dataframe tbody tr th:only-of-type {\n",
       "        vertical-align: middle;\n",
       "    }\n",
       "\n",
       "    .dataframe tbody tr th {\n",
       "        vertical-align: top;\n",
       "    }\n",
       "\n",
       "    .dataframe thead th {\n",
       "        text-align: right;\n",
       "    }\n",
       "</style>\n",
       "<table border=\"1\" class=\"dataframe\">\n",
       "  <thead>\n",
       "    <tr style=\"text-align: right;\">\n",
       "      <th></th>\n",
       "      <th>open</th>\n",
       "      <th>id</th>\n",
       "      <th>srl_id</th>\n",
       "      <th>timestamp</th>\n",
       "      <th>index_price</th>\n",
       "      <th>high</th>\n",
       "      <th>low</th>\n",
       "      <th>close</th>\n",
       "      <th>volume</th>\n",
       "    </tr>\n",
       "  </thead>\n",
       "  <tbody>\n",
       "    <tr>\n",
       "      <th>0</th>\n",
       "      <td>41407.6</td>\n",
       "      <td>1</td>\n",
       "      <td>1</td>\n",
       "      <td>1.610107e+12</td>\n",
       "      <td>40657.125</td>\n",
       "      <td>42077.6</td>\n",
       "      <td>38596.0</td>\n",
       "      <td>40547.3</td>\n",
       "      <td>3577496.0</td>\n",
       "    </tr>\n",
       "    <tr>\n",
       "      <th>1</th>\n",
       "      <td>34221.1</td>\n",
       "      <td>2</td>\n",
       "      <td>1</td>\n",
       "      <td>1.610366e+12</td>\n",
       "      <td>33903.600</td>\n",
       "      <td>35601.7</td>\n",
       "      <td>30431.4</td>\n",
       "      <td>35360.2</td>\n",
       "      <td>7602135.0</td>\n",
       "    </tr>\n",
       "    <tr>\n",
       "      <th>2</th>\n",
       "      <td>37040.6</td>\n",
       "      <td>3</td>\n",
       "      <td>1</td>\n",
       "      <td>1.611922e+12</td>\n",
       "      <td>35840.950</td>\n",
       "      <td>38600.0</td>\n",
       "      <td>33500.0</td>\n",
       "      <td>34223.2</td>\n",
       "      <td>4271187.0</td>\n",
       "    </tr>\n",
       "    <tr>\n",
       "      <th>3</th>\n",
       "      <td>30651.2</td>\n",
       "      <td>4</td>\n",
       "      <td>1</td>\n",
       "      <td>1.611749e+12</td>\n",
       "      <td>30489.750</td>\n",
       "      <td>31675.2</td>\n",
       "      <td>29258.4</td>\n",
       "      <td>30374.2</td>\n",
       "      <td>3712610.0</td>\n",
       "    </tr>\n",
       "    <tr>\n",
       "      <th>4</th>\n",
       "      <td>30864.2</td>\n",
       "      <td>5</td>\n",
       "      <td>1</td>\n",
       "      <td>1.611274e+12</td>\n",
       "      <td>30880.350</td>\n",
       "      <td>32060.0</td>\n",
       "      <td>28860.0</td>\n",
       "      <td>31737.2</td>\n",
       "      <td>4537623.0</td>\n",
       "    </tr>\n",
       "    <tr>\n",
       "      <th>...</th>\n",
       "      <td>...</td>\n",
       "      <td>...</td>\n",
       "      <td>...</td>\n",
       "      <td>...</td>\n",
       "      <td>...</td>\n",
       "      <td>...</td>\n",
       "      <td>...</td>\n",
       "      <td>...</td>\n",
       "      <td>...</td>\n",
       "    </tr>\n",
       "    <tr>\n",
       "      <th>15906</th>\n",
       "      <td>20961.7</td>\n",
       "      <td>15907</td>\n",
       "      <td>12</td>\n",
       "      <td>1.655813e+12</td>\n",
       "      <td>21201.625</td>\n",
       "      <td>21749.2</td>\n",
       "      <td>20851.0</td>\n",
       "      <td>21244.6</td>\n",
       "      <td>5937205.0</td>\n",
       "    </tr>\n",
       "    <tr>\n",
       "      <th>15907</th>\n",
       "      <td>16211.7</td>\n",
       "      <td>15908</td>\n",
       "      <td>12</td>\n",
       "      <td>1.669637e+12</td>\n",
       "      <td>16204.550</td>\n",
       "      <td>16399.0</td>\n",
       "      <td>16000.0</td>\n",
       "      <td>16207.5</td>\n",
       "      <td>3924396.0</td>\n",
       "    </tr>\n",
       "    <tr>\n",
       "      <th>15908</th>\n",
       "      <td>16498.7</td>\n",
       "      <td>15909</td>\n",
       "      <td>12</td>\n",
       "      <td>1.672402e+12</td>\n",
       "      <td>16488.275</td>\n",
       "      <td>16581.0</td>\n",
       "      <td>16337.0</td>\n",
       "      <td>16536.4</td>\n",
       "      <td>1963644.0</td>\n",
       "    </tr>\n",
       "    <tr>\n",
       "      <th>15909</th>\n",
       "      <td>24576.0</td>\n",
       "      <td>15910</td>\n",
       "      <td>12</td>\n",
       "      <td>1.676549e+12</td>\n",
       "      <td>24751.250</td>\n",
       "      <td>25251.2</td>\n",
       "      <td>24290.3</td>\n",
       "      <td>24887.5</td>\n",
       "      <td>8384968.0</td>\n",
       "    </tr>\n",
       "    <tr>\n",
       "      <th>15910</th>\n",
       "      <td>44217.9</td>\n",
       "      <td>15911</td>\n",
       "      <td>12</td>\n",
       "      <td>1.632463e+12</td>\n",
       "      <td>42858.550</td>\n",
       "      <td>45180.4</td>\n",
       "      <td>40519.4</td>\n",
       "      <td>41516.5</td>\n",
       "      <td>4504374.0</td>\n",
       "    </tr>\n",
       "  </tbody>\n",
       "</table>\n",
       "<p>15911 rows × 9 columns</p>\n",
       "</div>"
      ],
      "text/plain": [
       "          open     id  srl_id     timestamp  index_price     high      low  \\\n",
       "0      41407.6      1       1  1.610107e+12    40657.125  42077.6  38596.0   \n",
       "1      34221.1      2       1  1.610366e+12    33903.600  35601.7  30431.4   \n",
       "2      37040.6      3       1  1.611922e+12    35840.950  38600.0  33500.0   \n",
       "3      30651.2      4       1  1.611749e+12    30489.750  31675.2  29258.4   \n",
       "4      30864.2      5       1  1.611274e+12    30880.350  32060.0  28860.0   \n",
       "...        ...    ...     ...           ...          ...      ...      ...   \n",
       "15906  20961.7  15907      12  1.655813e+12    21201.625  21749.2  20851.0   \n",
       "15907  16211.7  15908      12  1.669637e+12    16204.550  16399.0  16000.0   \n",
       "15908  16498.7  15909      12  1.672402e+12    16488.275  16581.0  16337.0   \n",
       "15909  24576.0  15910      12  1.676549e+12    24751.250  25251.2  24290.3   \n",
       "15910  44217.9  15911      12  1.632463e+12    42858.550  45180.4  40519.4   \n",
       "\n",
       "         close     volume  \n",
       "0      40547.3  3577496.0  \n",
       "1      35360.2  7602135.0  \n",
       "2      34223.2  4271187.0  \n",
       "3      30374.2  3712610.0  \n",
       "4      31737.2  4537623.0  \n",
       "...        ...        ...  \n",
       "15906  21244.6  5937205.0  \n",
       "15907  16207.5  3924396.0  \n",
       "15908  16536.4  1963644.0  \n",
       "15909  24887.5  8384968.0  \n",
       "15910  41516.5  4504374.0  \n",
       "\n",
       "[15911 rows x 9 columns]"
      ]
     },
     "execution_count": 20,
     "metadata": {},
     "output_type": "execute_result"
    }
   ],
   "source": [
    "srlines_raw"
   ]
  },
  {
   "cell_type": "code",
   "execution_count": null,
   "id": "b797d0dd",
   "metadata": {},
   "outputs": [],
   "source": []
  }
 ],
 "metadata": {
  "kernelspec": {
   "display_name": "Python 3 (ipykernel)",
   "language": "python",
   "name": "python3"
  },
  "language_info": {
   "codemirror_mode": {
    "name": "ipython",
    "version": 3
   },
   "file_extension": ".py",
   "mimetype": "text/x-python",
   "name": "python",
   "nbconvert_exporter": "python",
   "pygments_lexer": "ipython3",
   "version": "3.10.8"
  }
 },
 "nbformat": 4,
 "nbformat_minor": 5
}
